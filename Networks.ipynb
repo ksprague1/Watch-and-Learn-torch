{
 "cells": [
  {
   "cell_type": "code",
   "execution_count": 1,
   "id": "eaf86cf9",
   "metadata": {},
   "outputs": [],
   "source": [
    "from numba import float32,int32,int8,jit,cuda\n",
    "from numba.cuda.random import create_xoroshiro128p_states, xoroshiro128p_uniform_float32,xoroshiro128p_uniform_float64\n",
    "from numba.cuda.random import xoroshiro128p_normal_float32\n",
    "from matplotlib import pyplot as plt\n",
    "import numpy as np\n",
    "from matplotlib import pyplot as plt\n",
    "import math\n",
    "from util import *\n",
    "import torch\n",
    "from torch import nn"
   ]
  },
  {
   "cell_type": "markdown",
   "id": "44e2460b",
   "metadata": {},
   "source": [
    "# Using the decompression functions from data generation"
   ]
  },
  {
   "cell_type": "code",
   "execution_count": 2,
   "id": "d64f9146",
   "metadata": {},
   "outputs": [],
   "source": [
    "@cuda.jit\n",
    "def decompress2D(inn,states):\n",
    "    \"\"\"Inverse function of compress\"\"\"\n",
    "    sz,sx,sy=states.shape\n",
    "    #n is which 2d grid ur on, i is which set of 8 numbers you're on\n",
    "    n,i=cuda.grid(2)\n",
    "    #get the 2d grid\n",
    "    state=states[n]\n",
    "    num = inn[n][i]\n",
    "    for bit in range(8):\n",
    "        idx=i*8+bit\n",
    "        x = idx//sy\n",
    "        y = idx%sy\n",
    "        #make it a snake pattern. . .\n",
    "        if x%2==1:\n",
    "            y=sy-y-1\n",
    "        state[x][y]=1&(num>>bit)\n",
    "\n",
    "@cuda.jit\n",
    "def decompress1D(inn,states):\n",
    "    \"\"\"Similar to decompress 2D but instead of being an inverse to compress it squishes the 2D\n",
    "    array output into a 1D array (which is now in a snake pattern)\n",
    "    if states has shape [N,X,1] then out should have shape [M,Z/8]\n",
    "    and the blocks/threads should have shape [N,Z/8]\n",
    "    Here Z=X*Y where each state has shape [X,Y] on a 2D grid\n",
    "    \n",
    "    Note: This is slightly changed to work with the correct tensor shape\n",
    "    \"\"\"\n",
    "    #n is which grid ur on, i is which set of 8 numbers you're on\n",
    "    n,i=cuda.grid(2)\n",
    "    #get the grid\n",
    "    state=states[n]\n",
    "    num = inn[n][i]\n",
    "    for bit in range(8):\n",
    "        idx=i*8+bit\n",
    "        #get each value in 1d\n",
    "        state[idx][0]=1&(num>>bit)"
   ]
  },
  {
   "cell_type": "code",
   "execution_count": 3,
   "id": "db1f7198",
   "metadata": {},
   "outputs": [
    {
     "name": "stdout",
     "output_type": "stream",
     "text": [
      "cuda:0\n"
     ]
    }
   ],
   "source": [
    "ngpu=1\n",
    "device = torch.device(\"cuda:0\" if (torch.cuda.is_available() and ngpu > 0) else \"cpu\")\n",
    "print(device)"
   ]
  },
  {
   "cell_type": "markdown",
   "id": "0dcea955",
   "metadata": {},
   "source": [
    "# Implementing a simple RNN model"
   ]
  },
  {
   "cell_type": "code",
   "execution_count": 4,
   "id": "f70f9deb",
   "metadata": {},
   "outputs": [],
   "source": [
    "class RNN(nn.Module):\n",
    "    def __init__(self,device=device, **kwargs):\n",
    "        super(RNN, self).__init__()\n",
    "        \n",
    "        self.rnn = nn.RNN(input_size=1,hidden_size=128,batch_first=True)\n",
    "        self.lin = nn.Sequential(\n",
    "                nn.Linear(128,128),\n",
    "                nn.ReLU(),\n",
    "                nn.Linear(128,1),\n",
    "                nn.Sigmoid()\n",
    "            )\n",
    "        self.device=device\n",
    "        self.to(device)\n",
    "    def forward(self, input):\n",
    "        # h0 has shape [N,L,H]\n",
    "        h0=torch.zeros([1,input.shape[0],128]).to(device)\n",
    "        out,h=self.rnn(input,h0)\n",
    "        return self.lin(out)"
   ]
  },
  {
   "cell_type": "code",
   "execution_count": 5,
   "id": "5341e3f7",
   "metadata": {},
   "outputs": [],
   "source": [
    "traindata = np.load('data/traindata32-4407.npy')"
   ]
  },
  {
   "cell_type": "code",
   "execution_count": 6,
   "id": "5a5f02eb",
   "metadata": {},
   "outputs": [
    {
     "data": {
      "text/plain": [
       "(51200000, 128)"
      ]
     },
     "execution_count": 6,
     "metadata": {},
     "output_type": "execute_result"
    }
   ],
   "source": [
    "traindata = traindata[np.random.permutation(traindata.shape[0])]\n",
    "traindata.shape"
   ]
  },
  {
   "cell_type": "markdown",
   "id": "8645c195",
   "metadata": {},
   "source": [
    "# Making sure the shape of everything lines up"
   ]
  },
  {
   "cell_type": "code",
   "execution_count": 7,
   "id": "7ecb948b",
   "metadata": {},
   "outputs": [
    {
     "name": "stdout",
     "output_type": "stream",
     "text": [
      "torch.Size([1024, 1023, 1]) torch.Size([1024, 1023, 1])\n",
      "tensor([[0., 0., 0.,  ..., 0., 0., 0.],\n",
      "        [1., 1., 1.,  ..., 0., 1., 1.],\n",
      "        [0., 0., 0.,  ..., 0., 0., 0.],\n",
      "        ...,\n",
      "        [1., 1., 0.,  ..., 1., 1., 1.],\n",
      "        [1., 1., 1.,  ..., 0., 1., 0.],\n",
      "        [1., 1., 1.,  ..., 1., 1., 1.]], device='cuda:0')\n"
     ]
    }
   ],
   "source": [
    "\n",
    "#bsize=2048\n",
    "#N=16\n",
    "\n",
    "bsize=1024\n",
    "N=32\n",
    "\n",
    "batch=torch.zeros([bsize,N*N,1]).to(device)\n",
    "decompress1D[(bsize,N//2),(1,N//4)](traindata[0:bsize],batch)\n",
    "data=batch[:,:-1,:]\n",
    "label=batch[:,1:,:]\n",
    "print(data.shape,label.shape)\n",
    "print(data[:,:,0])"
   ]
  },
  {
   "cell_type": "code",
   "execution_count": 8,
   "id": "1cadf961",
   "metadata": {},
   "outputs": [
    {
     "name": "stdout",
     "output_type": "stream",
     "text": [
      "torch.Size([1024, 1023, 1])\n"
     ]
    }
   ],
   "source": [
    "#initialize the network\n",
    "net=RNN()\n",
    "\n",
    "print(net(data).shape)\n",
    "#training parameters\n",
    "lr = 1e-4\n",
    "if bsize<2048:lr/=2\n",
    "beta1 = 0.9\n",
    "beta2=0.999\n",
    "#Using adam to optimize\n",
    "optimizer = torch.optim.Adam(\n",
    "    net.parameters(), \n",
    "    lr=lr, \n",
    "    betas=(beta1,beta2)\n",
    ")"
   ]
  },
  {
   "cell_type": "markdown",
   "id": "7987994a",
   "metadata": {},
   "source": [
    "# Make sure to use a loss which will give you probabilities in your predictions.\n",
    "\n",
    "I know L2 loss and Binary Cross Entropy Loss will do this"
   ]
  },
  {
   "cell_type": "code",
   "execution_count": 9,
   "id": "bfceae02",
   "metadata": {},
   "outputs": [
    {
     "name": "stdout",
     "output_type": "stream",
     "text": [
      "49999\n"
     ]
    }
   ],
   "source": [
    "Loss = nn.BCELoss()\n",
    "losses=[]\n",
    "validation=[]\n",
    "vidx= traindata.shape[0]//bsize-1\n",
    "print(vidx)"
   ]
  },
  {
   "cell_type": "markdown",
   "id": "320fb799",
   "metadata": {},
   "source": [
    "# Network actually trains in a few epochs"
   ]
  },
  {
   "cell_type": "code",
   "execution_count": null,
   "id": "87371dd1",
   "metadata": {},
   "outputs": [
    {
     "name": "stdout",
     "output_type": "stream",
     "text": [
      "|||||||||||||"
     ]
    }
   ],
   "source": [
    "epoch=3\n",
    "\n",
    "#set the last batch to validation\n",
    "#this is a super lazy validation set \n",
    "\n",
    "count=0\n",
    "for i in range(epoch):\n",
    "    #decided the last batch is validation \n",
    "    p = np.random.permutation(traindata.shape[0]//bsize)\n",
    "    t=time.time()\n",
    "    for idx in p:\n",
    "        #decompress the traindata with the gpu\n",
    "        decompress1D[(bsize,N//2),(1,N//4)](traindata[bsize*idx:bsize*(idx+1)],batch)\n",
    "        #starting N**2-1 are inputs\n",
    "        data=batch[:,:-1,:]\n",
    "        #ending N**2-1 are predictions\n",
    "        real=batch[:,1:,:]\n",
    "        \n",
    "        pred = net(data)\n",
    "        loss = Loss(pred,real)\n",
    "        net.zero_grad()\n",
    "        if idx!=vidx:\n",
    "            loss.backward()\n",
    "            optimizer.step()\n",
    "            losses.append(loss.cpu().item())\n",
    "        else:\n",
    "            validation.append(loss.cpu().item())\n",
    "        count+=1\n",
    "        if (count%500)==0:\n",
    "            print(\"|\",end=\"\")\n",
    "    if epoch//100==0 or i%(epoch//100)==0:\n",
    "        print(\"%.5f, %ds\"%(np.mean(losses[-p.size-1:]),time.time()-t),end=\"| \")\n",
    "        torch.save(net,\"models/32-4407-%d\"%epoch)"
   ]
  },
  {
   "cell_type": "markdown",
   "id": "d1b5d04a",
   "metadata": {},
   "source": [
    "# Plotting training loss"
   ]
  },
  {
   "cell_type": "code",
   "execution_count": null,
   "id": "794f8be8",
   "metadata": {},
   "outputs": [],
   "source": [
    "plt.plot(np.arange(len(losses))/vidx,losses,'.',color=(0,0,1,0.2))\n",
    "plt.plot(np.arange(len(validation))+1,validation,'.',color=(1,0,0,0.5))\n",
    "plt.yscale(\"log\")\n",
    "plt.show()"
   ]
  },
  {
   "cell_type": "markdown",
   "id": "8397f6b7",
   "metadata": {},
   "source": [
    "# Testing Our Output"
   ]
  },
  {
   "cell_type": "code",
   "execution_count": null,
   "id": "12ef750d",
   "metadata": {},
   "outputs": [],
   "source": [
    "testdata=np.load('data/testdata32.npy')"
   ]
  },
  {
   "cell_type": "code",
   "execution_count": null,
   "id": "cbfc1d39",
   "metadata": {},
   "outputs": [],
   "source": [
    "testdata.shape\n",
    "with torch.no_grad():\n",
    "    print('yay')"
   ]
  },
  {
   "cell_type": "markdown",
   "id": "f85c66ad",
   "metadata": {},
   "source": [
    "# Computing True and Predicted Energies\n",
    "\n",
    "Note: To go from probability to energy we look at the relation:\n",
    "\n",
    "$P(s)=\\frac{exp(-\\beta H(s))}{Z} = \\frac{1}{2} \\prod_{i=2}^{N^2}p(\\sigma_i|\\sigma_{i-1},\\sigma_{i-2} . . . \\sigma_1) $\n",
    "\n",
    "So\n",
    "\n",
    "$ln(P(s)) = -\\beta H(s) - ln(Z) = -ln(2)+ \\sum_{i=2}^{N^2}ln\\big[p(\\sigma_i|\\sigma_{i-1},\\sigma_{i-2} . . . \\sigma_1)\\big]$\n",
    "\n",
    "$-\\beta H(s) = -ln(2)+ \\sum_{i=2}^{N^2}ln\\big[p(\\sigma_i|\\sigma_{i-1},\\sigma_{i-2} . . . \\sigma_1)\\big]+ln(Z)$\n",
    "\n",
    "$H(s) = \\frac{ln(2)- \\sum_{i=2}^{N^2}ln\\big[p(\\sigma_i|\\sigma_{i-1},\\sigma_{i-2} . . . \\sigma_1)\\big]}{\\beta }-\\frac{ln(Z)}{\\beta}$"
   ]
  },
  {
   "cell_type": "code",
   "execution_count": null,
   "id": "efc7fec7",
   "metadata": {},
   "outputs": [],
   "source": [
    "@cuda.jit\n",
    "def IsingEnergy(grids,E):\n",
    "    \"\"\"Compute Energy of 2D ising lattice (J=1 h=0)\"\"\"\n",
    "    z,i,j=cuda.grid(3)\n",
    "    sz,sx,sy=grids.shape\n",
    "    s1=grids[z][i][j]*2-1\n",
    "    s2=grids[z][(i+1)%sx][j]*2-1\n",
    "    s3=grids[z][i][(j+1)%sy]*2-1\n",
    "    cuda.atomic.add(E,z,-s1*s2-s1*s3)\n",
    "\n",
    "def trueEnergies(grids,N):\n",
    "    \"\"\"Compute the true energies of a set of data-compressed ising lattices\"\"\"\n",
    "    testbatch=torch.zeros([grids.shape[0],N,N]).to(device)\n",
    "    decompress2D[(grids.shape[0],N//2),(1,N//4)](grids,testbatch)\n",
    "    E=np.zeros(grids.shape[0])\n",
    "    IsingEnergy[(grids.shape[0],N//8,N//8),(1,8,8)](testbatch,E)\n",
    "    return E\n",
    "\n",
    "def logprobability(grids,N):\n",
    "    \"\"\"compute the logscale probability of a set of data-compressed ising lattices\"\"\"\n",
    "    testbatch=torch.zeros([grids.shape[0],N*N,1]).to(device)\n",
    "    decompress1D[(grids.shape[0],N//2),(1,N//4)](grids,testbatch)\n",
    "    data=testbatch[:,:-1,:]\n",
    "    real=testbatch[:,1:,:]\n",
    "    #real is going to be a set of actual values\n",
    "    #and pred is going to be a set of probabilities\n",
    "    #if real[i]=1 than you muptiply your conditional probability by pred[i]\n",
    "    #if real[i]=0 than you muliply by 1-pred[i]\n",
    "    with torch.no_grad():\n",
    "        pred = net(data)\n",
    "        ones = real*pred\n",
    "        zeros=(1-real)*(1-pred)\n",
    "        total = ones+zeros\n",
    "    #this is the sum you see in the cell above\n",
    "    logp=torch.sum(torch.log(total),dim=1).squeeze(1)-np.log(2)\n",
    "    return logp\n",
    "    \n"
   ]
  },
  {
   "cell_type": "markdown",
   "id": "f33a9db9",
   "metadata": {},
   "source": [
    "# Looking at performance on our validation set\n",
    "\n",
    "Note: The validation set has the same distribution of states as the training set"
   ]
  },
  {
   "cell_type": "code",
   "execution_count": null,
   "id": "95058e7a",
   "metadata": {},
   "outputs": [],
   "source": [
    "prob = logprobability(traindata[bsize*vidx:bsize*(vidx+1)],N)\n",
    "trueE = trueEnergies(traindata[bsize*vidx:bsize*(vidx+1)],N)\n",
    "\n",
    "relE=-prob.cpu()/0.4407\n",
    "print(relE.mean(),trueE.mean(),relE.mean()-trueE.mean())\n",
    "off=relE.mean()-trueE.mean()\n",
    "plt.plot(trueE,relE-relE.mean(),'.',color=(0,0,1,0.1))\n",
    "plt.plot(trueE,trueE-trueE.mean(),'k--')"
   ]
  },
  {
   "cell_type": "markdown",
   "id": "86aa4fa0",
   "metadata": {},
   "source": [
    "# Looking at performance on our test set\n",
    "\n",
    "Note: The test set has a very different distribution than our training set: States with energy zero and above will never actually have been seen by our network"
   ]
  },
  {
   "cell_type": "code",
   "execution_count": null,
   "id": "13bba576",
   "metadata": {},
   "outputs": [],
   "source": [
    "probB = logprobability(testdata[::100].copy(),N)\n",
    "trueEB = trueEnergies(testdata[::100].copy(),N)\n",
    "\n",
    "relEB=-probB.cpu()/0.4407\n",
    "\n",
    "print(relEB.mean())\n",
    "plt.plot(trueEB,relEB-off,'.',color=(0,0,1,0.1))\n",
    "plt.plot(trueEB,trueEB,'k--')"
   ]
  },
  {
   "cell_type": "code",
   "execution_count": null,
   "id": "b6fc0a4f",
   "metadata": {},
   "outputs": [],
   "source": [
    "probB = logprobability(testdata[::100].copy(),N)\n",
    "trueEB = trueEnergies(testdata[::100].copy(),N)\n",
    "\n",
    "relEB=-probB.cpu()/0.4407\n",
    "\n",
    "print(relEB.mean())\n",
    "plt.plot(trueEB,relEB-off,'.',color=(0,0,1,0.1))\n",
    "plt.plot(trueEB,trueEB,'k--')"
   ]
  },
  {
   "cell_type": "code",
   "execution_count": null,
   "id": "6abfbbac",
   "metadata": {},
   "outputs": [],
   "source": [
    "#net = torch.load(\"32-4407\")\n",
    "#net = torch.load(\"32-4407-U\")"
   ]
  },
  {
   "cell_type": "code",
   "execution_count": null,
   "id": "ad4216ba",
   "metadata": {},
   "outputs": [],
   "source": []
  }
 ],
 "metadata": {
  "kernelspec": {
   "display_name": "Python 3",
   "language": "python",
   "name": "python3"
  },
  "language_info": {
   "codemirror_mode": {
    "name": "ipython",
    "version": 3
   },
   "file_extension": ".py",
   "mimetype": "text/x-python",
   "name": "python",
   "nbconvert_exporter": "python",
   "pygments_lexer": "ipython3",
   "version": "3.7.10"
  }
 },
 "nbformat": 4,
 "nbformat_minor": 5
}
