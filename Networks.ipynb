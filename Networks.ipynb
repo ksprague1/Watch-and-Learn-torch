{
 "cells": [
  {
   "cell_type": "code",
   "execution_count": 1,
   "id": "eaf86cf9",
   "metadata": {},
   "outputs": [],
   "source": [
    "from numba import float32,int32,int8,jit,cuda\n",
    "from numba.cuda.random import create_xoroshiro128p_states, xoroshiro128p_uniform_float32,xoroshiro128p_uniform_float64\n",
    "from numba.cuda.random import xoroshiro128p_normal_float32\n",
    "from matplotlib import pyplot as plt\n",
    "import numpy as np\n",
    "from matplotlib import pyplot as plt\n",
    "import math\n",
    "from util import *\n",
    "import torch\n",
    "from torch import nn"
   ]
  },
  {
   "cell_type": "markdown",
   "id": "44e2460b",
   "metadata": {},
   "source": [
    "# Using the decompression functions from data generation"
   ]
  },
  {
   "cell_type": "code",
   "execution_count": 2,
   "id": "d64f9146",
   "metadata": {},
   "outputs": [],
   "source": [
    "@cuda.jit\n",
    "def decompress2D(inn,states):\n",
    "    \"\"\"Inverse function of compress\n",
    "    Note: This is slightly changed to work with the correct tensor shape\"\"\"\n",
    "    sz,_,sx,sy=states.shape\n",
    "    #n is which 2d grid ur on, i is which set of 8 numbers you're on\n",
    "    n,i=cuda.grid(2)\n",
    "    #get the 2d grid\n",
    "    state=states[n][0]\n",
    "    num = inn[n][i]\n",
    "    for bit in range(8):\n",
    "        idx=i*8+bit\n",
    "        x = idx//sy\n",
    "        y = idx%sy\n",
    "        #make it a snake pattern. . .\n",
    "        if x%2==1:\n",
    "            y=sy-y-1\n",
    "        state[x][y]=1&(num>>bit)\n",
    "\n",
    "@cuda.jit\n",
    "def decompress1D(inn,states):\n",
    "    \"\"\"Similar to decompress 2D but instead of being an inverse to compress it squishes the 2D\n",
    "    array output into a 1D array (which is now in a snake pattern)\n",
    "    if states has shape [N,X,1] then out should have shape [M,Z/8]\n",
    "    and the blocks/threads should have shape [N,Z/8]\n",
    "    Here Z=X*Y where each state has shape [X,Y] on a 2D grid\n",
    "    \n",
    "    Note: This is slightly changed to work with the correct tensor shape\n",
    "    \"\"\"\n",
    "    #n is which grid ur on, i is which set of 8 numbers you're on\n",
    "    n,i=cuda.grid(2)\n",
    "    #get the grid\n",
    "    state=states[n]\n",
    "    num = inn[n][i]\n",
    "    for bit in range(8):\n",
    "        idx=i*8+bit\n",
    "        #get each value in 1d\n",
    "        state[idx][0]=1&(num>>bit)"
   ]
  },
  {
   "cell_type": "code",
   "execution_count": 3,
   "id": "db1f7198",
   "metadata": {},
   "outputs": [
    {
     "name": "stdout",
     "output_type": "stream",
     "text": [
      "cuda:0\n"
     ]
    }
   ],
   "source": [
    "ngpu=1\n",
    "device = torch.device(\"cuda:0\" if (torch.cuda.is_available() and ngpu > 0) else \"cpu\")\n",
    "print(device)"
   ]
  },
  {
   "cell_type": "code",
   "execution_count": 4,
   "id": "9f9121a5",
   "metadata": {},
   "outputs": [],
   "source": [
    "#bsize=1024\n",
    "#N=32\n",
    "\n",
    "#bsize=2048\n",
    "#N=16\n",
    "\n",
    "bsize=4096\n",
    "N=8\n",
    "\n",
    "B=0.4407\n",
    "\n",
    "modeltype='CNN'\n",
    "\n",
    "epoch = 1"
   ]
  },
  {
   "cell_type": "markdown",
   "id": "0dcea955",
   "metadata": {},
   "source": [
    "# Implementing a simple RNN model"
   ]
  },
  {
   "cell_type": "code",
   "execution_count": 5,
   "id": "f70f9deb",
   "metadata": {},
   "outputs": [],
   "source": [
    "class RNN(nn.Module):\n",
    "    def __init__(self,device=device, **kwargs):\n",
    "        super(RNN, self).__init__()\n",
    "        \n",
    "        self.rnn = nn.RNN(input_size=1,hidden_size=128,batch_first=True)\n",
    "        self.lin = nn.Sequential(\n",
    "                nn.Linear(128,128),\n",
    "                nn.ReLU(),\n",
    "                nn.Linear(128,1),\n",
    "                nn.Sigmoid()\n",
    "            )\n",
    "        self.device=device\n",
    "        self.to(device)\n",
    "    def forward(self, input):\n",
    "        # h0 has shape [N,L,H]\n",
    "        h0=torch.zeros([1,input.shape[0],128]).to(device)\n",
    "        out,h=self.rnn(input,h0)\n",
    "        return self.lin(out)"
   ]
  },
  {
   "cell_type": "markdown",
   "id": "b03f38df",
   "metadata": {},
   "source": [
    "# Using a 2D RNN\n",
    "\n",
    "https://github.com/FlorianPfisterer/2D-LSTM-Seq2Seq/blob/master/model/lstm2d_cell.py\n",
    "\n",
    "THIS IMPLEMENTATION LEAKS GPU MEMORY SOMEWHERE!!!"
   ]
  },
  {
   "cell_type": "code",
   "execution_count": 6,
   "id": "889eac86",
   "metadata": {},
   "outputs": [],
   "source": [
    "class LSTM2dCell(nn.Module):\n",
    "    \"\"\"\n",
    "    A 2d-LSTM Cell that computes it's hidden state and cell state based on\n",
    "        - an input x\n",
    "        - the previous horizontal hidden and cell state\n",
    "        - the previous vertical hidden and cell state\n",
    "    Args:\n",
    "        input_dim: the input dimension (i.e. second dimension of x)\n",
    "        state_dim: dimension of the hidden and cell state of this LSTM unit\n",
    "        device: the device (CPU / GPU) to run all computations on / store tensors on\n",
    "    \"\"\"\n",
    "\n",
    "    def __init__(self, input_dim, state_dim,N, device):\n",
    "        super(LSTM2dCell, self).__init__()\n",
    "        self.input_dim = input_dim\n",
    "        self.state_dim = state_dim\n",
    "        self.device = device\n",
    "\n",
    "        # input to state\n",
    "        self.W_x = nn.Linear(self.input_dim, self.state_dim * 5).to(self.device)\n",
    "        # previous horizontal hidden state to state\n",
    "        self.W_hor = nn.Linear(self.state_dim, self.state_dim * 5).to(self.device)\n",
    "        # previous vertical hidden state to state\n",
    "        self.W_ver = nn.Linear(self.state_dim, self.state_dim * 5).to(self.device)\n",
    "        \n",
    "        self.N=N\n",
    "        self.lin = nn.Sequential(\n",
    "                nn.Linear(state_dim,128),\n",
    "                nn.ReLU(),\n",
    "                nn.Linear(128,1),\n",
    "                nn.Sigmoid()\n",
    "            ).to(device)\n",
    "        self.setup()\n",
    "    def forward_pass(self, x, s_prev_hor, s_prev_ver, c_prev_hor, c_prev_ver):\n",
    "        \"\"\"\n",
    "        Forward pass of the 2d-LSTM Cell at horizontal step j and vertical step i (to compute c_ji and s_ji)\n",
    "        Args:\n",
    "            x: (batch x input_dim) input at horizontal step j\n",
    "            s_prev_hor: (batch x state_dim) hidden state of cell at previous horizontal step j-1, same vertical step i\n",
    "            s_prev_ver: (batch x state_dim) hidden state of cell at previous vertical step i-1, same horizontal step j\n",
    "            c_prev_hor: (batch x state_dim) cell state of cell at previous horizontal step j-1, same vertical step i\n",
    "            c_prev_ver: (batch x state_dim) cell state of cell at previous vertical step i-1, same horizontal step j\n",
    "        Returns:\n",
    "            c: (batch x state_dim) next cell state (c_ji)\n",
    "            s: (batch x state_dim) next hidden state (s_ji)\n",
    "        \"\"\"\n",
    "        pre_activation = self.W_x(x) + self.W_hor(s_prev_hor) + self.W_ver(s_prev_ver)\n",
    "        gates = pre_activation[:, :4*self.state_dim].sigmoid()\n",
    "\n",
    "        # retrieve input, forget, output and lambda gate from gates\n",
    "        i = gates[:, 0*self.state_dim:1*self.state_dim]\n",
    "        f = gates[:, 1*self.state_dim:2*self.state_dim]\n",
    "        o = gates[:, 2*self.state_dim:3*self.state_dim]\n",
    "        l = gates[:, 3*self.state_dim:4*self.state_dim]\n",
    "\n",
    "        c_candidate = pre_activation[:, 4*self.state_dim:].tanh()\n",
    "        c = f * (l * c_prev_hor + (1 - l) * c_prev_ver) + c_candidate * i\n",
    "        s = c.tanh() * o\n",
    "\n",
    "        return c, s\n",
    "        \n",
    "    def setup(self):\n",
    "        \"\"\"Sets up the structure that tells the rnn how to propogate the vertical and horizontal states.\n",
    "        Notably: X stores where to look for the previous rnn state in the vertical direction\n",
    "                 Y stores where to look for the previous rnn state in the horizontal direction\n",
    "                 Z stores where to save the current rnn output\n",
    "        \"\"\"\n",
    "        print(self.N**2-1)\n",
    "        N=self.N\n",
    "        self.X=np.zeros([N**2-1],dtype=np.int64)\n",
    "        self.Y=np.zeros([N**2-1],dtype=np.int64)\n",
    "        Z=np.arange(N**2).reshape(N,N)\n",
    "        Z[1::2,:]=Z[1::2,::-1]\n",
    "        #Z is in the snake pattern\n",
    "        Z=Z.reshape(N**2)[:N**2-1]\n",
    "        #pad states outside with the index of the starting state\n",
    "        states=np.pad(np.arange(N**2).reshape(N,N),[1,1],constant_values=N*(N-1))\n",
    "        for idx in range(N**2-1):\n",
    "            self.Y[idx]=states[Z[idx]//N+1,Z[idx]%N+2*((idx//N)%2)]\n",
    "            self.X[idx]=states[Z[idx]//N,Z[idx]%N+1]\n",
    "        self.Z=Z\n",
    "        \n",
    "    def forward(self,input):\n",
    "        N=self.N\n",
    "        X,Y,Z=self.X,self.Y,self.Z\n",
    "        #set up array to store hidden states\n",
    "        H,C= [True]*N**2,[True]*N**2\n",
    "        #set the starting state to zero\n",
    "        H[N*(N-1)]=C[N*(N-1)]=torch.zeros([input.shape[0],self.state_dim],device=device)\n",
    "        out = torch.zeros(input.shape,device=self.device)\n",
    "        read=[]\n",
    "        for idx in range(N**2-1):\n",
    "            #get horizontal input states\n",
    "            hx,cx=H[X[idx]],C[X[idx]]\n",
    "            #get vertical input states\n",
    "            hy,cy=H[Y[idx]],C[Y[idx]]\n",
    "            #get output states\n",
    "            cnext,hnext=self.forward_pass(input[:,idx,:],hx,hy,cx,cy)\n",
    "            #store output states for later use\n",
    "            C[Z[idx]],H[Z[idx]] = cnext,hnext\n",
    "            #apply linear layer\n",
    "            out[:,idx,:]=self.lin(hnext)\n",
    "        return out\n"
   ]
  },
  {
   "cell_type": "markdown",
   "id": "b6d2fd47",
   "metadata": {},
   "source": [
    "# Visualizing 2D RNN Propogation\n",
    "\n",
    "Note 1: The bottom left (in state sources) stores the zero state\n",
    "\n",
    "Note 2: To get the position of the hidden state input in the propogation figures, just look for the cell in state sources with the matching color"
   ]
  },
  {
   "cell_type": "code",
   "execution_count": 7,
   "id": "0f79f593",
   "metadata": {},
   "outputs": [
    {
     "name": "stdout",
     "output_type": "stream",
     "text": [
      "15\n"
     ]
    },
    {
     "data": {
      "image/png": "[encoded data removed]",
      "text/plain": [
       "<Figure size 864x288 with 3 Axes>"
      ]
     },
     "metadata": {
      "needs_background": "light"
     },
     "output_type": "display_data"
    }
   ],
   "source": [
    "plt.rcParams[\"figure.figsize\"]= [12,4]\n",
    "tst = LSTM2dCell(1,128,4,device)\n",
    "X,Y = np.zeros(4**2)-1,np.zeros(4**2)-1\n",
    "X[tst.Z]=tst.X\n",
    "Y[tst.Z]=tst.Y\n",
    "X=X.reshape(4,4)\n",
    "Y=Y.reshape(4,4)\n",
    "Z=np.arange(16).reshape(4,4)\n",
    "\n",
    "fig,(a1,a2,a3)=plt.subplots(1,3)\n",
    "a1.imshow(Z,vmax=15,vmin=-1)\n",
    "a1.set_title(\"State Sources\")\n",
    "a2.imshow(X,vmax=15,vmin=-1)\n",
    "a2.set_title(\"Vertical Propogation\")\n",
    "a3.imshow(Y,vmax=15,vmin=-1)\n",
    "a3.set_title(\"Horizontal Propogation\")\n",
    "plt.show()"
   ]
  },
  {
   "cell_type": "markdown",
   "id": "fd07ffe8",
   "metadata": {},
   "source": [
    "# Blocked CNN :)"
   ]
  },
  {
   "cell_type": "code",
   "execution_count": 8,
   "id": "a879c72a",
   "metadata": {},
   "outputs": [],
   "source": [
    "class BlockedCNN(nn.Module):\n",
    "    def __init__(self,device,N):\n",
    "        super(BlockedCNN, self).__init__()\n",
    "        self.N=N\n",
    "        tmp=np.arange(N**2).reshape([N,N])\n",
    "        tmp[1::2,:]=tmp[1::2,::-1]\n",
    "        plt.imshow(tmp)\n",
    "        plt.show()\n",
    "        tmp2 = np.array([[tmp<=i for i in range(N**2-1)]])\n",
    "\n",
    "        self.mul=torch.tensor(tmp2).to(device).unsqueeze(2)\n",
    "        self.add=torch.tensor(tmp2-1).to(device).unsqueeze(2)\n",
    "        \n",
    "        print(self.add.shape)\n",
    "        \n",
    "        self.net = nn.Sequential(\n",
    "                nn.Conv2d(1,8,N//4,padding='same',padding_mode ='circular'),\n",
    "                nn.ReLU(True),\n",
    "                nn.MaxPool2d(2),\n",
    "                nn.Conv2d(8,16,N//4,padding='same',padding_mode ='circular'),\n",
    "                nn.ReLU(True),\n",
    "                nn.MaxPool2d(2),\n",
    "                nn.Flatten(),\n",
    "                #Insize is 256, outsize is 10\n",
    "                nn.Linear(N**2,256),\n",
    "                nn.ReLU(True),\n",
    "                nn.Linear(256,1),\n",
    "                nn.Sigmoid(),\n",
    "            )\n",
    "        self.to(device)\n",
    "    def forward(self, input):\n",
    "        blocked=input.unsqueeze(1)*self.mul+self.add\n",
    "        a,b,c,d,e=blocked.shape\n",
    "        netin = blocked.reshape([a*b,c,d,e])\n",
    "        netout = self.net(netin)\n",
    "        ab,c2 = netout.shape\n",
    "        return netout.reshape([a,b,c2])"
   ]
  },
  {
   "cell_type": "markdown",
   "id": "401b6fb1",
   "metadata": {},
   "source": [
    "# Setting Parameters for what model to train"
   ]
  },
  {
   "cell_type": "code",
   "execution_count": 9,
   "id": "5341e3f7",
   "metadata": {},
   "outputs": [],
   "source": [
    "traindata = np.load('data/traindata%d-%d.npy'%(N,B*10000))"
   ]
  },
  {
   "cell_type": "code",
   "execution_count": 10,
   "id": "d9f96796",
   "metadata": {},
   "outputs": [],
   "source": [
    "#traindata = traindata[:traindata.shape[0]//5]"
   ]
  },
  {
   "cell_type": "code",
   "execution_count": 11,
   "id": "5a5f02eb",
   "metadata": {},
   "outputs": [
    {
     "data": {
      "text/plain": [
       "(51200000, 8)"
      ]
     },
     "execution_count": 11,
     "metadata": {},
     "output_type": "execute_result"
    }
   ],
   "source": [
    "traindata = traindata[np.random.permutation(traindata.shape[0])]\n",
    "traindata.shape"
   ]
  },
  {
   "cell_type": "code",
   "execution_count": 12,
   "id": "c8adb140",
   "metadata": {},
   "outputs": [],
   "source": [
    "#traindata=traindata[:512000]"
   ]
  },
  {
   "cell_type": "markdown",
   "id": "8645c195",
   "metadata": {},
   "source": [
    "# Making sure the shape of everything lines up"
   ]
  },
  {
   "cell_type": "code",
   "execution_count": 13,
   "id": "7ecb948b",
   "metadata": {},
   "outputs": [
    {
     "name": "stdout",
     "output_type": "stream",
     "text": [
      "torch.Size([4096, 1, 8, 8]) torch.Size([4096, 63, 1])\n",
      "tensor([[[0., 0., 0.,  ..., 0., 0., 0.]],\n",
      "\n",
      "        [[1., 1., 1.,  ..., 1., 1., 1.]],\n",
      "\n",
      "        [[1., 1., 1.,  ..., 1., 1., 1.]],\n",
      "\n",
      "        ...,\n",
      "\n",
      "        [[1., 1., 1.,  ..., 1., 1., 1.]],\n",
      "\n",
      "        [[0., 1., 1.,  ..., 1., 1., 1.]],\n",
      "\n",
      "        [[0., 0., 0.,  ..., 0., 0., 0.]]], device='cuda:0')\n"
     ]
    }
   ],
   "source": [
    "batch=torch.zeros([bsize,N*N,1]).to(device)\n",
    "decompress1D[(bsize,N//2),(1,N//4)](traindata[0:bsize],batch)\n",
    "if modeltype=='CNN':\n",
    "    data=torch.zeros([bsize,1,N,N]).to(device)\n",
    "    decompress2D[(bsize,N//2),(1,N//4)](traindata[0:bsize],data)\n",
    "else:\n",
    "    data=batch[:,:-1,:]\n",
    "label=batch[:,1:,:]\n",
    "print(data.shape,label.shape)\n",
    "print(data[:,:,0])"
   ]
  },
  {
   "cell_type": "markdown",
   "id": "d888cb29",
   "metadata": {},
   "source": [
    "# Initialize the network"
   ]
  },
  {
   "cell_type": "code",
   "execution_count": 14,
   "id": "1cadf961",
   "metadata": {},
   "outputs": [
    {
     "data": {
      "image/png": "[encoded data removed]",
      "text/plain": [
       "<Figure size 864x288 with 1 Axes>"
      ]
     },
     "metadata": {
      "needs_background": "light"
     },
     "output_type": "display_data"
    },
    {
     "name": "stdout",
     "output_type": "stream",
     "text": [
      "torch.Size([1, 63, 1, 8, 8])\n",
      "63\n",
      "torch.Size([4096, 63, 1])\n"
     ]
    }
   ],
   "source": [
    "\n",
    "\n",
    "typedict={'CNN':BlockedCNN(device,N),'2d':LSTM2dCell(1,128,N,device),'':RNN()}\n",
    "\n",
    "net = typedict[modeltype]\n",
    "with torch.no_grad():\n",
    "    print(net(data).shape)\n",
    "\n",
    "#training parameters\n",
    "lr = 1e-4 *(bsize/2048)\n",
    "beta1 = 0.9\n",
    "beta2=0.999\n",
    "#Using adam to optimize\n",
    "optimizer = torch.optim.Adam(\n",
    "    net.parameters(), \n",
    "    lr=lr, \n",
    "    betas=(beta1,beta2)\n",
    ")"
   ]
  },
  {
   "cell_type": "markdown",
   "id": "7987994a",
   "metadata": {},
   "source": [
    "# Make sure to use a loss which will give you probabilities in your predictions.\n",
    "\n",
    "I know L2 loss and Binary Cross Entropy Loss will do this"
   ]
  },
  {
   "cell_type": "code",
   "execution_count": 15,
   "id": "bfceae02",
   "metadata": {},
   "outputs": [
    {
     "name": "stdout",
     "output_type": "stream",
     "text": [
      "12499\n"
     ]
    }
   ],
   "source": [
    "Loss = nn.BCELoss()\n",
    "losses=[]\n",
    "validation=[]\n",
    "vidx= traindata.shape[0]//bsize-1\n",
    "print(vidx)"
   ]
  },
  {
   "cell_type": "markdown",
   "id": "320fb799",
   "metadata": {},
   "source": [
    "# Network actually trains in a few epochs"
   ]
  },
  {
   "cell_type": "code",
   "execution_count": null,
   "id": "87371dd1",
   "metadata": {
    "scrolled": true
   },
   "outputs": [],
   "source": [
    "\n",
    "#set the last batch to validation\n",
    "#this is a super lazy validation set \n",
    "\n",
    "count=0\n",
    "for i in range(epoch):\n",
    "    #decided the last batch is validation \n",
    "    p = np.random.permutation(traindata.shape[0]//bsize)\n",
    "    t=time.time()\n",
    "    for idx in p:\n",
    "        #decompress the traindata with the gpu\n",
    "        decompress1D[(bsize,N//2),(1,N//4)](traindata[bsize*idx:bsize*(idx+1)],batch)\n",
    "        #starting N**2-1 are inputs\n",
    "        if modeltype=='CNN':\n",
    "            decompress2D[(bsize,N//2),(1,N//4)](traindata[bsize*idx:bsize*(idx+1)],data)\n",
    "        else:\n",
    "            data=batch[:,:-1,:]\n",
    "        #ending N**2-1 are predictions\n",
    "        real=batch[:,1:,:]\n",
    "        \n",
    "        pred = net(data)\n",
    "        loss = Loss(pred,real)\n",
    "        net.zero_grad()\n",
    "        if idx!=vidx:\n",
    "            loss.backward()\n",
    "            optimizer.step()\n",
    "            losses.append(loss.cpu().item())\n",
    "        else:\n",
    "            validation.append(loss.cpu().item())\n",
    "        count+=1\n",
    "        if (count%500)==0:\n",
    "            print(\"|\",end=\"\")\n",
    "            plt.plot(np.arange(len(losses))/vidx,losses,'.',color=(0,0,1,0.2))\n",
    "            plt.plot(np.arange(len(validation))+1,validation,'.',color=(1,0,0,0.5))\n",
    "            plt.yscale(\"log\")\n",
    "            plt.savefig(\"Loss.png\")\n",
    "            plt.close()\n",
    "            torch.save(net,\"models/%s%d-%d-%d\"%(modeltype,N,B*10000,i))\n",
    "    if epoch//100==0 or i%(epoch//100)==0:\n",
    "        print(\"%.5f, %ds\"%(np.mean(losses[-p.size-1:]),time.time()-t),end=\"| \")\n",
    "        torch.save(net,\"models/%s%d-%d-%d\"%(modeltype,N,B*10000,i))"
   ]
  },
  {
   "cell_type": "code",
   "execution_count": null,
   "id": "1bd7f40f",
   "metadata": {},
   "outputs": [],
   "source": [
    "#print(np.where(p==idx))"
   ]
  },
  {
   "cell_type": "code",
   "execution_count": null,
   "id": "4b9bb1de",
   "metadata": {},
   "outputs": [],
   "source": [
    "torch.save(net,\"models/%s%d-%d-%d\"%(modeltype,N,B*10000,i))"
   ]
  },
  {
   "cell_type": "markdown",
   "id": "d1b5d04a",
   "metadata": {},
   "source": [
    "# Plotting training loss"
   ]
  },
  {
   "cell_type": "code",
   "execution_count": null,
   "id": "794f8be8",
   "metadata": {},
   "outputs": [],
   "source": [
    "plt.plot(np.arange(len(losses))/vidx,losses,'.',color=(0,0,1,0.2))\n",
    "plt.plot(np.arange(len(validation))+1,validation,'.',color=(1,0,0,0.5))\n",
    "plt.yscale(\"log\")\n",
    "plt.show()\n",
    "plt.close()"
   ]
  },
  {
   "cell_type": "markdown",
   "id": "8397f6b7",
   "metadata": {},
   "source": [
    "# Testing Our Output"
   ]
  },
  {
   "cell_type": "code",
   "execution_count": null,
   "id": "12ef750d",
   "metadata": {},
   "outputs": [],
   "source": [
    "testdata=np.load('data/testdata%d.npy'%N)"
   ]
  },
  {
   "cell_type": "markdown",
   "id": "f85c66ad",
   "metadata": {},
   "source": [
    "# Computing True and Predicted Energies\n",
    "\n",
    "Note: To go from probability to energy we look at the relation:\n",
    "\n",
    "$P(s)=\\frac{exp(-\\beta H(s))}{Z} = \\frac{1}{2} \\prod_{i=2}^{N^2}p(\\sigma_i|\\sigma_{i-1},\\sigma_{i-2} . . . \\sigma_1) $\n",
    "\n",
    "So\n",
    "\n",
    "$ln(P(s)) = -\\beta H(s) - ln(Z) = -ln(2)+ \\sum_{i=2}^{N^2}ln\\big[p(\\sigma_i|\\sigma_{i-1},\\sigma_{i-2} . . . \\sigma_1)\\big]$\n",
    "\n",
    "$-\\beta H(s) = -ln(2)+ \\sum_{i=2}^{N^2}ln\\big[p(\\sigma_i|\\sigma_{i-1},\\sigma_{i-2} . . . \\sigma_1)\\big]+ln(Z)$\n",
    "\n",
    "$H(s) = \\frac{ln(2)- \\sum_{i=2}^{N^2}ln\\big[p(\\sigma_i|\\sigma_{i-1},\\sigma_{i-2} . . . \\sigma_1)\\big]}{\\beta }-\\frac{ln(Z)}{\\beta}$"
   ]
  },
  {
   "cell_type": "code",
   "execution_count": null,
   "id": "efc7fec7",
   "metadata": {},
   "outputs": [],
   "source": [
    "@cuda.jit\n",
    "def IsingEnergy(grids,E):\n",
    "    \"\"\"Compute Energy of 2D ising lattice (J=1 h=0)\"\"\"\n",
    "    z,i,j=cuda.grid(3)\n",
    "    sz,sx,sy=grids.shape\n",
    "    s1=grids[z][i][j]*2-1\n",
    "    s2=grids[z][(i+1)%sx][j]*2-1\n",
    "    s3=grids[z][i][(j+1)%sy]*2-1\n",
    "    cuda.atomic.add(E,z,-s1*s2-s1*s3)\n",
    "\n",
    "def trueEnergies(grids,N):\n",
    "    \"\"\"Compute the true energies of a set of data-compressed ising lattices\"\"\"\n",
    "    testbatch=torch.zeros([grids.shape[0],1,N,N]).to(device)\n",
    "    decompress2D[(grids.shape[0],N//2),(1,N//4)](grids,testbatch)\n",
    "    testbatch=testbatch.squeeze(1)\n",
    "    E=np.zeros(grids.shape[0])\n",
    "    IsingEnergy[(grids.shape[0],N//8,N//8),(1,8,8)](testbatch,E)\n",
    "    return E\n",
    "\n",
    "def logprobability(grids,N):\n",
    "    \"\"\"compute the logscale probability of a set of data-compressed ising lattices\"\"\"\n",
    "    testbatch=torch.zeros([grids.shape[0],N*N,1]).to(device)\n",
    "    decompress1D[(grids.shape[0],N//2),(1,N//4)](grids,testbatch)\n",
    "    if modeltype=='CNN':\n",
    "        data=torch.zeros([grids.shape[0],1,N,N]).to(device)\n",
    "        decompress2D[(grids.shape[0],N//2),(1,N//4)](grids,data)\n",
    "    else:\n",
    "        data=testbatch[:,:-1,:]\n",
    "    real=testbatch[:,1:,:]\n",
    "    #real is going to be a set of actual values\n",
    "    #and pred is going to be a set of probabilities\n",
    "    #if real[i]=1 than you muptiply your conditional probability by pred[i]\n",
    "    #if real[i]=0 than you muliply by 1-pred[i]\n",
    "    with torch.no_grad():\n",
    "        pred = net(data)\n",
    "        ones = real*pred\n",
    "        zeros=(1-real)*(1-pred)\n",
    "        total = ones+zeros\n",
    "    #this is the sum you see in the cell above\n",
    "    logp=torch.sum(torch.log(total),dim=1).squeeze(1)-np.log(2)\n",
    "    return logp\n",
    "    \n"
   ]
  },
  {
   "cell_type": "markdown",
   "id": "86aa4fa0",
   "metadata": {},
   "source": [
    "# Looking at performance on Validation & Test Sets\n",
    "\n",
    "Note: The validation set has the same distribution of states as the training set\n",
    "Note: The test set has a very different distribution than our training set: States with energy zero and above will never actually have been seen by our network"
   ]
  },
  {
   "cell_type": "code",
   "execution_count": null,
   "id": "d2def589",
   "metadata": {},
   "outputs": [],
   "source": [
    "def plot_sets(ax0,ax1,c,diff=False,name=''):\n",
    "    \"\"\"Creates a plot of predicted vs true energy labels for the rnn\n",
    "       Since the rnn energy is relative, I set the average rnn ground state energy to the true ground state energy.\n",
    "       The rest of the energies can then be calculated relative to the ground state.\n",
    "    \"\"\"\n",
    "    # if the bytes are zero then all bits are zero\n",
    "    ground = np.zeros([2,N*N//8],dtype=np.uint8)\n",
    "    # if the value of the byte is 255 then all bits are 1\n",
    "    ground[1]=255\n",
    "    gprob = logprobability(ground,N)\n",
    "    gE = trueEnergies(ground,N)\n",
    "    off=-(gprob.cpu()/B).mean()-gE.mean()\n",
    "    \n",
    "    prob = logprobability(traindata[bsize*vidx:bsize*(vidx+1)],N)\n",
    "    trueE = trueEnergies(traindata[bsize*vidx:bsize*(vidx+1)],N)\n",
    "    relE=-prob.cpu()/B\n",
    "    #off=relE.mean()-trueE.mean()\n",
    "    print(off)\n",
    "    probB = logprobability(testdata[::max(N**2//8**2-1,1)].copy(),N)\n",
    "    trueEB = trueEnergies(testdata[::max(N**2//8**2-1,1)].copy(),N)\n",
    "    relEB=-probB.cpu()/B\n",
    "    if diff:\n",
    "        ax0.plot(trueE,relE-off-trueE,'.',color=c+[0.1],label=name)\n",
    "        ax0.plot(trueE,trueE*0,'k--')\n",
    "        ax1.plot(trueEB,relEB-off-trueEB,'.',color=c+[0.1],label=name)\n",
    "        ax1.plot(trueEB,trueEB*0,'k--')\n",
    "    else:\n",
    "        ax0.plot(trueE,relE-off,'.',color=c+[0.1],label=name)\n",
    "        ax0.plot(trueE,trueE,'k--')\n",
    "        ax1.plot(trueEB,relEB-off,'.',color=c+[0.1],label=name)\n",
    "        ax1.plot(trueEB,trueEB,'k--')"
   ]
  },
  {
   "cell_type": "code",
   "execution_count": null,
   "id": "cd1f021d",
   "metadata": {},
   "outputs": [],
   "source": [
    "plt.rcParams[\"figure.figsize\"]= [12,4]\n",
    "fig,(ax0,ax1)=plt.subplots(1,2)\n",
    "plot_sets(ax0,ax1,[0,0,1])\n",
    "ax0.set_title(\"Pred vs True Train\")\n",
    "ax1.set_title(\"Pred vs True Test\")\n",
    "plt.show()"
   ]
  },
  {
   "cell_type": "markdown",
   "id": "3bc6d076",
   "metadata": {},
   "source": [
    "# Comparing results at different epochs"
   ]
  },
  {
   "cell_type": "code",
   "execution_count": null,
   "id": "ffd1f340",
   "metadata": {},
   "outputs": [],
   "source": [
    "fig,(ax0,ax1)=plt.subplots(1,2)\n",
    "\n",
    "colors = [[1,0,0],[0,1,0],[0,0,1]]\n",
    "for i in range(epoch):\n",
    "    net = torch.load(\"models/%s%d-%d-%d\"%(modeltype,N,B*10000,i))\n",
    "    net.setup()\n",
    "    torch.save(net,\"models/%s%d-%d-%d\"%(modeltype,N,B*10000,i))\n",
    "    plot_sets(ax0,ax1,colors[i],name='Epoch %d'%(i+1))\n",
    "\n",
    "\n",
    "ax0.set_title(\"Pred vs True Train\")\n",
    "ax1.set_title(\"Pred vs True Test\")\n",
    "ax0.legend()\n",
    "ax1.legend()\n",
    "plt.show()\n",
    "\n",
    "fig,(ax0,ax1)=plt.subplots(1,2)\n",
    "\n",
    "for i in range(epoch):\n",
    "    net = torch.load(\"models/%s%d-%d-%d\"%(modeltype,N,B*10000,i))\n",
    "    #net.setup()\n",
    "    plot_sets(ax0,ax1,colors[i],True,name='Epoch %d'%(i+1))\n",
    "ax0.set_title(\"Pred-True Validation\")\n",
    "ax1.set_title(\"Pred-True Test\")\n",
    "ax0.legend()\n",
    "ax1.legend()\n",
    "plt.show()"
   ]
  },
  {
   "cell_type": "code",
   "execution_count": null,
   "id": "44ab1692",
   "metadata": {},
   "outputs": [],
   "source": []
  }
 ],
 "metadata": {
  "kernelspec": {
   "display_name": "Python 3",
   "language": "python",
   "name": "python3"
  },
  "language_info": {
   "codemirror_mode": {
    "name": "ipython",
    "version": 3
   },
   "file_extension": ".py",
   "mimetype": "text/x-python",
   "name": "python",
   "nbconvert_exporter": "python",
   "pygments_lexer": "ipython3",
   "version": "3.7.10"
  }
 },
 "nbformat": 4,
 "nbformat_minor": 5
}
